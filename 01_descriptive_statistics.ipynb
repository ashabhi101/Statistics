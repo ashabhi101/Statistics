{
 "cells": [
  {
   "cell_type": "markdown",
   "id": "f1a75fe2-e53e-4a2b-aff3-e961268930df",
   "metadata": {},
   "source": [
    "# Descriptive Statistics\n",
    "\n",
    "Descriptive statistics are used to **summarize and organize data** so it can be easily understood. These statistics include measures of:\n",
    "\n",
    "- **Central tendency** (e.g., mean, median, mode), which indicate the center or typical value in a dataset.\n",
    "- **Dispersion or variability** (e.g., range, variance, standard deviation), which indicate how spread out the data is.\n",
    "- **Shape of the distribution** (e.g., skewness and kurtosis), which help us understand the data’s symmetry and peakiness.\n"
   ]
  },
  {
   "cell_type": "code",
   "execution_count": 2,
   "id": "0f190057-6acc-4a6c-a7fe-2c0382b8025e",
   "metadata": {},
   "outputs": [],
   "source": [
    "import numpy as np\n",
    "import pandas as pd\n",
    "import matplotlib.pyplot as plt\n",
    "import seaborn as sns\n",
    "\n",
    "# Sample dataset\n",
    "data = pd.Series([12, 15, 14, 10, 18, 20, 21, 17, 15, 19, 30, 35, 22, 13, 16])"
   ]
  },
  {
   "cell_type": "markdown",
   "id": "74092cf4-6963-44a0-815a-e2e6e37c8943",
   "metadata": {},
   "source": [
    "## Central Tendency\n",
    "\n",
    "These are values that represent the \"center\" or \"typical value\" of the dataset.\n"
   ]
  },
  {
   "cell_type": "code",
   "execution_count": 6,
   "id": "304802f7-8069-43a0-a6c0-3bfcb6fc8374",
   "metadata": {},
   "outputs": [
    {
     "name": "stdout",
     "output_type": "stream",
     "text": [
      "Mean: 18.47\n"
     ]
    }
   ],
   "source": [
    "#The mean is the sum of all values divided by the number of values.  \n",
    "#It is sensitive to outliers (e.g., unusually high or low values).\n",
    "\n",
    "mean_val = data.mean().round(2)\n",
    "print(f\"Mean: {mean_val}\")\n"
   ]
  },
  {
   "cell_type": "code",
   "execution_count": 9,
   "id": "ef309c34-9079-41f8-95bc-1ca2fc56f42b",
   "metadata": {},
   "outputs": [
    {
     "name": "stdout",
     "output_type": "stream",
     "text": [
      "Median: 17.0\n"
     ]
    }
   ],
   "source": [
    "\"\"\"The median is the middle value when the data is sorted.  \n",
    "If the dataset has an odd number of values, it's the center one;  \n",
    "if even, it's the average of the two center values.  \n",
    "The median is **robust to outliers**.\"\"\"\n",
    "\n",
    "median_val = data.median()\n",
    "print(f\"Median: {median_val}\")\n",
    "\n"
   ]
  },
  {
   "cell_type": "code",
   "execution_count": 10,
   "id": "2ba14755-be45-40f8-b5ad-a032124ab9f5",
   "metadata": {},
   "outputs": [
    {
     "name": "stdout",
     "output_type": "stream",
     "text": [
      "Mode: [15]\n"
     ]
    }
   ],
   "source": [
    "\"\"\"The mode is the value(s) that appear most frequently.  \n",
    "There can be multiple modes or none (if all values are unique).\"\"\"\n",
    "mode_val = data.mode()\n",
    "print(f\"Mode: {list(mode_val)}\")"
   ]
  },
  {
   "cell_type": "markdown",
   "id": "18b43605-b4d9-4504-af50-c94409a098d3",
   "metadata": {},
   "source": [
    "## Dispersion\n",
    "\n",
    "These metrics tell us **how spread out** the data is around the central values.\n"
   ]
  },
  {
   "cell_type": "code",
   "execution_count": 12,
   "id": "89220215-5bf1-4f19-b2b1-147285d7fc5f",
   "metadata": {},
   "outputs": [
    {
     "name": "stdout",
     "output_type": "stream",
     "text": [
      "Range: 25\n"
     ]
    }
   ],
   "source": [
    "\"\"\"Range is the difference between the maximum and minimum values.\n",
    "It gives a quick sense of the spread but is highly affected by outliers.\n",
    "\"\"\"\n",
    "data_range = data.max() - data.min()\n",
    "print(f\"Range: {data_range}\")"
   ]
  },
  {
   "cell_type": "markdown",
   "id": "eaffafda-a541-4df6-8dd0-bf1bec378e0b",
   "metadata": {},
   "source": [
    "- **Variance** measures the average squared deviation from the mean.\n",
    "- **Standard Deviation (SD)** is the square root of the variance. It is in the same units as the data.\n",
    "These help us understand **how much the data varies** from the average value."
   ]
  },
  {
   "cell_type": "code",
   "execution_count": 16,
   "id": "8fd905f4-7e70-400d-972e-10a3caaccf9a",
   "metadata": {},
   "outputs": [
    {
     "name": "stdout",
     "output_type": "stream",
     "text": [
      "Variance: 44.55238095238094, Standard Deviation: 6.674756995755047\n"
     ]
    }
   ],
   "source": [
    "variance = data.var()\n",
    "std_dev = data.std()\n",
    "print(f\"Variance: {variance}, Standard Deviation: {std_dev}\")"
   ]
  },
  {
   "cell_type": "markdown",
   "id": "46f15c70-aa12-4274-9cc3-6c15ec22ac60",
   "metadata": {},
   "source": [
    "## Percentiles & IQR\n",
    "\n",
    "- A **percentile** indicates the value below which a given percentage of observations fall.\n",
    "- The **25th percentile (Q1)** is the value below which 25% of the data lies.\n",
    "- The **75th percentile (Q3)** marks the 75% threshold.\n",
    "- The **Interquartile Range (IQR)** = Q3 − Q1 and represents the middle 50% of the data.\n",
    "\n",
    "IQR is helpful for detecting outliers and understanding the concentration of the dataset.\n"
   ]
  },
  {
   "cell_type": "code",
   "execution_count": 17,
   "id": "10da3797-39f5-44b1-87e4-efe4e069c9f5",
   "metadata": {},
   "outputs": [
    {
     "name": "stdout",
     "output_type": "stream",
     "text": [
      "Q1 (25th percentile): 14.5\n",
      "Q3 (75th percentile): 20.5\n",
      "IQR (Q3 - Q1): 6.0\n",
      "90th percentile: 26.799999999999997\n"
     ]
    }
   ],
   "source": [
    "q1 = data.quantile(0.25)\n",
    "q3 = data.quantile(0.75)\n",
    "iqr = q3 - q1\n",
    "\n",
    "print(f\"Q1 (25th percentile): {q1}\")\n",
    "print(f\"Q3 (75th percentile): {q3}\")\n",
    "print(f\"IQR (Q3 - Q1): {iqr}\")\n",
    "print(f\"90th percentile: {data.quantile(0.9)}\")\n"
   ]
  },
  {
   "cell_type": "markdown",
   "id": "6d244404-9cba-415e-8656-45869ec259ea",
   "metadata": {},
   "source": [
    "## Shape of the Distribution\n",
    "\n",
    "- **Skewness** measures the **asymmetry** of the distribution.\n",
    "  - A skewness > 0 indicates a right-skewed (positively skewed) distribution.\n",
    "  - A skewness < 0 indicates a left-skewed (negatively skewed) distribution.\n",
    "- **Kurtosis** measures the **tailedness** (i.e., how heavy or light the tails are compared to a normal distribution).\n",
    "  - A normal distribution has a kurtosis of 0 (excess kurtosis).\n",
    "  - High kurtosis = heavy tails (more outliers), low kurtosis = light tails.\n"
   ]
  },
  {
   "cell_type": "code",
   "execution_count": 18,
   "id": "78dc47e5-f7d8-4d4a-b7cb-b26aa3115ff6",
   "metadata": {},
   "outputs": [
    {
     "name": "stdout",
     "output_type": "stream",
     "text": [
      "Skewness: 1.3542195469181573, Kurtosis: 1.829386749436778\n"
     ]
    }
   ],
   "source": [
    "skew = data.skew()\n",
    "kurt = data.kurt()\n",
    "print(f\"Skewness: {skew}, Kurtosis: {kurt}\")\n"
   ]
  },
  {
   "cell_type": "code",
   "execution_count": 27,
   "id": "22da2f61-5c5c-40e9-9e78-64509a15cd46",
   "metadata": {},
   "outputs": [
    {
     "data": {
      "image/png": "[encoded data removed]",
      "text/plain": [
       "<Figure size 800x500 with 1 Axes>"
      ]
     },
     "metadata": {},
     "output_type": "display_data"
    }
   ],
   "source": [
    "from scipy.stats import skewnorm\n",
    "\n",
    "# Right skewed data: a > 0\n",
    "np.random.seed(42)\n",
    "right_skewed = skewnorm.rvs(a=8, loc=50, scale=10, size=1000)\n",
    "data_right = pd.Series(right_skewed)\n",
    "\n",
    "# Central tendency\n",
    "mean_r = data_right.mean()\n",
    "median_r = data_right.median()\n",
    "mode_r = data_right.mode().iloc[0]\n",
    "\n",
    "# Plot\n",
    "plt.figure(figsize=(8, 5))\n",
    "sns.histplot(data_right, bins=30, kde=True, color=\"lightblue\")\n",
    "\n",
    "# Lines\n",
    "plt.axvline(mode_r, color='orange', linestyle='-', linewidth=2, label=f\"Mode: {mode_r:.2f}\")\n",
    "plt.axvline(median_r, color='deeppink', linestyle='-', linewidth=2, label=f\"Median: {median_r:.2f}\")\n",
    "plt.axvline(mean_r, color='navy', linestyle='-', linewidth=2, label=f\"Mean: {mean_r:.2f}\")\n",
    "\n",
    "plt.title(\"Right-Skewed Distribution\")\n",
    "plt.xlabel(\"Value\")\n",
    "plt.ylabel(\"Frequency\")\n",
    "plt.legend()\n",
    "plt.show()\n"
   ]
  },
  {
   "cell_type": "markdown",
   "id": "a18e801d-3412-432e-9e02-55997351f017",
   "metadata": {},
   "source": [
    "- In a **right-skewed** distribution, the long tail is on the right → mean > median > mode.\n",
    "- In a **left-skewed** distribution, the tail is on the left → mean < median < mode.\n",
    "- Skewness affects the relationship between the three measures of central tendency.\n"
   ]
  },
  {
   "cell_type": "code",
   "execution_count": 26,
   "id": "ddb34f41-d90c-4a6f-b5ed-fa06bd17fcb5",
   "metadata": {},
   "outputs": [
    {
     "data": {
      "image/png": "[encoded data removed]",
      "text/plain": [
       "<Figure size 800x500 with 1 Axes>"
      ]
     },
     "metadata": {},
     "output_type": "display_data"
    }
   ],
   "source": [
    "# Left skewed data: a < 0\n",
    "left_skewed = skewnorm.rvs(a=-8, loc=50, scale=10, size=1000)\n",
    "data_left = pd.Series(left_skewed)\n",
    "\n",
    "# Central tendency\n",
    "mean_l = data_left.mean()\n",
    "median_l = data_left.median()\n",
    "mode_l = data_left.mode().iloc[0]\n",
    "\n",
    "# Plot\n",
    "plt.figure(figsize=(8, 5))\n",
    "sns.histplot(data_left, bins=30, kde=True, color=\"lightblue\")\n",
    "\n",
    "# Lines\n",
    "plt.axvline(mean_l, color='navy', linestyle='-', linewidth=2, label=f\"Mean: {mean_l:.2f}\")\n",
    "plt.axvline(median_l, color='deeppink', linestyle='-', linewidth=2, label=f\"Median: {median_l:.2f}\")\n",
    "plt.axvline(mode_l, color='orange', linestyle='-', linewidth=2, label=f\"Mode: {mode_l:.2f}\")\n",
    "\n",
    "plt.title(\"Left-Skewed Distribution\")\n",
    "plt.xlabel(\"Value\")\n",
    "plt.ylabel(\"Frequency\")\n",
    "plt.legend()\n",
    "plt.show()\n"
   ]
  },
  {
   "cell_type": "markdown",
   "id": "3e0c57ba-dddd-45ed-841f-aa20b1a9e2e8",
   "metadata": {},
   "source": [
    "- In a **left-skewed distribution**, the **mean is typically less than the median**, and the **mode is often the largest**.\n",
    "- The **mean is pulled toward the tail**, which is why it shifts left.\n",
    "- Visualizing these lines helps highlight the difference between each central tendency measure.\n"
   ]
  },
  {
   "cell_type": "markdown",
   "id": "cde23a5e-051c-41bd-a478-3ec2fe86f195",
   "metadata": {},
   "source": [
    "## Visualizing the Data"
   ]
  },
  {
   "cell_type": "code",
   "execution_count": 19,
   "id": "6bc0d06f-914d-40ef-acfb-f4da63a3c082",
   "metadata": {},
   "outputs": [
    {
     "data": {
      "image/png": "[encoded data removed]",
      "text/plain": [
       "<Figure size 600x400 with 1 Axes>"
      ]
     },
     "metadata": {},
     "output_type": "display_data"
    }
   ],
   "source": [
    "plt.figure(figsize=(6,4))\n",
    "sns.histplot(data, kde=True, bins=10)\n",
    "plt.title('Histogram with KDE')\n",
    "plt.xlabel('Value')\n",
    "plt.ylabel('Frequency')\n",
    "plt.show()\n"
   ]
  },
  {
   "cell_type": "code",
   "execution_count": 20,
   "id": "b321c284-0f8a-4879-8be5-1eeb279cb51c",
   "metadata": {},
   "outputs": [
    {
     "data": {
      "image/png": "[encoded data removed]",
      "text/plain": [
       "<Figure size 600x200 with 1 Axes>"
      ]
     },
     "metadata": {},
     "output_type": "display_data"
    }
   ],
   "source": [
    "plt.figure(figsize=(6,2))\n",
    "sns.boxplot(x=data)\n",
    "plt.title('Boxplot')\n",
    "plt.show()\n"
   ]
  },
  {
   "cell_type": "markdown",
   "id": "ee72d185-3b0a-49c0-a213-ec781dcb6689",
   "metadata": {},
   "source": [
    "- The **mean** is useful for symmetric distributions, but the **median** is better when data has outliers.\n",
    "- **Standard deviation** and **IQR** help quantify spread.\n",
    "- **Skewness** and **kurtosis** describe the shape of the distribution.\n",
    "- Use **histograms** for distribution and **boxplots** for spotting outliers and spread.\n"
   ]
  },
  {
   "cell_type": "markdown",
   "id": "60d784b2-2ca1-441a-a6a4-9d8b7eca5f3a",
   "metadata": {},
   "source": [
    "## Example 2:"
   ]
  },
  {
   "cell_type": "code",
   "execution_count": 21,
   "id": "396a8f94-47e7-4f0e-a86d-99184742a673",
   "metadata": {},
   "outputs": [],
   "source": [
    "from scipy.stats import skewnorm\n",
    "\n",
    "# Generate left-skewed data\n",
    "np.random.seed(42)\n",
    "left_skewed_data = skewnorm.rvs(a=-5, loc=50, scale=10, size=1000)  # a < 0 creates left skew\n",
    "data2 = pd.Series(left_skewed_data)\n"
   ]
  },
  {
   "cell_type": "code",
   "execution_count": 22,
   "id": "526dc8de-d6e7-4091-9e28-3c276e857914",
   "metadata": {},
   "outputs": [
    {
     "name": "stdout",
     "output_type": "stream",
     "text": [
      "Mean: 42.28\n",
      "Median: 43.32\n",
      "Mode: 15.65\n"
     ]
    }
   ],
   "source": [
    "mean_ = data2.mean()\n",
    "median_ = data2.median()\n",
    "mode_ = data2.mode().iloc[0]  # pick first if multiple modes\n",
    "\n",
    "print(f\"Mean: {mean_:.2f}\")\n",
    "print(f\"Median: {median_:.2f}\")\n",
    "print(f\"Mode: {mode_:.2f}\")\n"
   ]
  },
  {
   "cell_type": "markdown",
   "id": "edbf3c5d-a55d-4612-8a8b-cbad712fdf91",
   "metadata": {},
   "source": [
    "### Pandas functionality"
   ]
  },
  {
   "cell_type": "code",
   "execution_count": 28,
   "id": "43be6390-33db-4881-b90a-7413d6a4a4f8",
   "metadata": {},
   "outputs": [
    {
     "data": {
      "text/html": [
       "<div>\n",
       "<style scoped>\n",
       "    .dataframe tbody tr th:only-of-type {\n",
       "        vertical-align: middle;\n",
       "    }\n",
       "\n",
       "    .dataframe tbody tr th {\n",
       "        vertical-align: top;\n",
       "    }\n",
       "\n",
       "    .dataframe thead th {\n",
       "        text-align: right;\n",
       "    }\n",
       "</style>\n",
       "<table border=\"1\" class=\"dataframe\">\n",
       "  <thead>\n",
       "    <tr style=\"text-align: right;\">\n",
       "      <th></th>\n",
       "      <th>age</th>\n",
       "      <th>salary</th>\n",
       "      <th>experience_years</th>\n",
       "      <th>department</th>\n",
       "    </tr>\n",
       "  </thead>\n",
       "  <tbody>\n",
       "    <tr>\n",
       "      <th>0</th>\n",
       "      <td>62</td>\n",
       "      <td>60403.04</td>\n",
       "      <td>8.4</td>\n",
       "      <td>Engineering</td>\n",
       "    </tr>\n",
       "    <tr>\n",
       "      <th>1</th>\n",
       "      <td>18</td>\n",
       "      <td>75837.56</td>\n",
       "      <td>6.9</td>\n",
       "      <td>Sales</td>\n",
       "    </tr>\n",
       "    <tr>\n",
       "      <th>2</th>\n",
       "      <td>21</td>\n",
       "      <td>58902.25</td>\n",
       "      <td>5.3</td>\n",
       "      <td>Sales</td>\n",
       "    </tr>\n",
       "    <tr>\n",
       "      <th>3</th>\n",
       "      <td>21</td>\n",
       "      <td>50014.19</td>\n",
       "      <td>7.8</td>\n",
       "      <td>Engineering</td>\n",
       "    </tr>\n",
       "    <tr>\n",
       "      <th>4</th>\n",
       "      <td>57</td>\n",
       "      <td>59338.31</td>\n",
       "      <td>6.9</td>\n",
       "      <td>Sales</td>\n",
       "    </tr>\n",
       "  </tbody>\n",
       "</table>\n",
       "</div>"
      ],
      "text/plain": [
       "   age    salary  experience_years   department\n",
       "0   62  60403.04               8.4  Engineering\n",
       "1   18  75837.56               6.9        Sales\n",
       "2   21  58902.25               5.3        Sales\n",
       "3   21  50014.19               7.8  Engineering\n",
       "4   57  59338.31               6.9        Sales"
      ]
     },
     "execution_count": 28,
     "metadata": {},
     "output_type": "execute_result"
    }
   ],
   "source": [
    "# Sample realistic DataFrame\n",
    "np.random.seed(0)\n",
    "df = pd.DataFrame({\n",
    "    'age': np.random.randint(18, 65, size=100),\n",
    "    'salary': np.random.normal(60000, 15000, size=100).round(2),\n",
    "    'experience_years': np.random.normal(7, 3, size=100).clip(0).round(1),\n",
    "    'department': np.random.choice(['Sales', 'Engineering', 'HR'], size=100)\n",
    "})\n",
    "\n",
    "df.head()\n"
   ]
  },
  {
   "cell_type": "code",
   "execution_count": 29,
   "id": "de0ced80-3ed8-4d11-abfc-bb7247cc10b2",
   "metadata": {},
   "outputs": [
    {
     "data": {
      "text/html": [
       "<div>\n",
       "<style scoped>\n",
       "    .dataframe tbody tr th:only-of-type {\n",
       "        vertical-align: middle;\n",
       "    }\n",
       "\n",
       "    .dataframe tbody tr th {\n",
       "        vertical-align: top;\n",
       "    }\n",
       "\n",
       "    .dataframe thead th {\n",
       "        text-align: right;\n",
       "    }\n",
       "</style>\n",
       "<table border=\"1\" class=\"dataframe\">\n",
       "  <thead>\n",
       "    <tr style=\"text-align: right;\">\n",
       "      <th></th>\n",
       "      <th>age</th>\n",
       "      <th>salary</th>\n",
       "      <th>experience_years</th>\n",
       "    </tr>\n",
       "  </thead>\n",
       "  <tbody>\n",
       "    <tr>\n",
       "      <th>count</th>\n",
       "      <td>100.000000</td>\n",
       "      <td>100.000000</td>\n",
       "      <td>100.000000</td>\n",
       "    </tr>\n",
       "    <tr>\n",
       "      <th>mean</th>\n",
       "      <td>38.800000</td>\n",
       "      <td>58983.503000</td>\n",
       "      <td>7.199000</td>\n",
       "    </tr>\n",
       "    <tr>\n",
       "      <th>std</th>\n",
       "      <td>13.893535</td>\n",
       "      <td>14509.264326</td>\n",
       "      <td>3.039487</td>\n",
       "    </tr>\n",
       "    <tr>\n",
       "      <th>min</th>\n",
       "      <td>18.000000</td>\n",
       "      <td>24929.310000</td>\n",
       "      <td>0.000000</td>\n",
       "    </tr>\n",
       "    <tr>\n",
       "      <th>25%</th>\n",
       "      <td>27.000000</td>\n",
       "      <td>49956.970000</td>\n",
       "      <td>5.450000</td>\n",
       "    </tr>\n",
       "    <tr>\n",
       "      <th>50%</th>\n",
       "      <td>37.500000</td>\n",
       "      <td>59120.280000</td>\n",
       "      <td>7.000000</td>\n",
       "    </tr>\n",
       "    <tr>\n",
       "      <th>75%</th>\n",
       "      <td>53.000000</td>\n",
       "      <td>66926.590000</td>\n",
       "      <td>8.950000</td>\n",
       "    </tr>\n",
       "    <tr>\n",
       "      <th>max</th>\n",
       "      <td>64.000000</td>\n",
       "      <td>94916.070000</td>\n",
       "      <td>15.000000</td>\n",
       "    </tr>\n",
       "  </tbody>\n",
       "</table>\n",
       "</div>"
      ],
      "text/plain": [
       "              age        salary  experience_years\n",
       "count  100.000000    100.000000        100.000000\n",
       "mean    38.800000  58983.503000          7.199000\n",
       "std     13.893535  14509.264326          3.039487\n",
       "min     18.000000  24929.310000          0.000000\n",
       "25%     27.000000  49956.970000          5.450000\n",
       "50%     37.500000  59120.280000          7.000000\n",
       "75%     53.000000  66926.590000          8.950000\n",
       "max     64.000000  94916.070000         15.000000"
      ]
     },
     "execution_count": 29,
     "metadata": {},
     "output_type": "execute_result"
    }
   ],
   "source": [
    "df.describe()\n"
   ]
  },
  {
   "cell_type": "markdown",
   "id": "cc779083-3f80-4380-a340-fbcc2eb5c643",
   "metadata": {},
   "source": [
    "What does describe() do?\n",
    "- `count`: Number of non-null entries\n",
    "- `mean`, `std`: Central tendency and spread\n",
    "- `min`, `max`: Range of the data\n",
    "- `25%`, `50%`, `75%`: Quartiles used to calculate IQR\n",
    "\n",
    "These values are **column-wise** and help spot **outliers, skew, and scaling issues**.\n"
   ]
  },
  {
   "cell_type": "code",
   "execution_count": 30,
   "id": "814b1702-6271-4348-bf1a-ebab4e17b48b",
   "metadata": {},
   "outputs": [
    {
     "data": {
      "text/html": [
       "<div>\n",
       "<style scoped>\n",
       "    .dataframe tbody tr th:only-of-type {\n",
       "        vertical-align: middle;\n",
       "    }\n",
       "\n",
       "    .dataframe tbody tr th {\n",
       "        vertical-align: top;\n",
       "    }\n",
       "\n",
       "    .dataframe thead th {\n",
       "        text-align: right;\n",
       "    }\n",
       "</style>\n",
       "<table border=\"1\" class=\"dataframe\">\n",
       "  <thead>\n",
       "    <tr style=\"text-align: right;\">\n",
       "      <th></th>\n",
       "      <th>age</th>\n",
       "      <th>salary</th>\n",
       "      <th>experience_years</th>\n",
       "      <th>department</th>\n",
       "    </tr>\n",
       "  </thead>\n",
       "  <tbody>\n",
       "    <tr>\n",
       "      <th>count</th>\n",
       "      <td>100.000000</td>\n",
       "      <td>100.000000</td>\n",
       "      <td>100.000000</td>\n",
       "      <td>100</td>\n",
       "    </tr>\n",
       "    <tr>\n",
       "      <th>unique</th>\n",
       "      <td>NaN</td>\n",
       "      <td>NaN</td>\n",
       "      <td>NaN</td>\n",
       "      <td>3</td>\n",
       "    </tr>\n",
       "    <tr>\n",
       "      <th>top</th>\n",
       "      <td>NaN</td>\n",
       "      <td>NaN</td>\n",
       "      <td>NaN</td>\n",
       "      <td>Engineering</td>\n",
       "    </tr>\n",
       "    <tr>\n",
       "      <th>freq</th>\n",
       "      <td>NaN</td>\n",
       "      <td>NaN</td>\n",
       "      <td>NaN</td>\n",
       "      <td>36</td>\n",
       "    </tr>\n",
       "    <tr>\n",
       "      <th>mean</th>\n",
       "      <td>38.800000</td>\n",
       "      <td>58983.503000</td>\n",
       "      <td>7.199000</td>\n",
       "      <td>NaN</td>\n",
       "    </tr>\n",
       "    <tr>\n",
       "      <th>std</th>\n",
       "      <td>13.893535</td>\n",
       "      <td>14509.264326</td>\n",
       "      <td>3.039487</td>\n",
       "      <td>NaN</td>\n",
       "    </tr>\n",
       "    <tr>\n",
       "      <th>min</th>\n",
       "      <td>18.000000</td>\n",
       "      <td>24929.310000</td>\n",
       "      <td>0.000000</td>\n",
       "      <td>NaN</td>\n",
       "    </tr>\n",
       "    <tr>\n",
       "      <th>25%</th>\n",
       "      <td>27.000000</td>\n",
       "      <td>49956.970000</td>\n",
       "      <td>5.450000</td>\n",
       "      <td>NaN</td>\n",
       "    </tr>\n",
       "    <tr>\n",
       "      <th>50%</th>\n",
       "      <td>37.500000</td>\n",
       "      <td>59120.280000</td>\n",
       "      <td>7.000000</td>\n",
       "      <td>NaN</td>\n",
       "    </tr>\n",
       "    <tr>\n",
       "      <th>75%</th>\n",
       "      <td>53.000000</td>\n",
       "      <td>66926.590000</td>\n",
       "      <td>8.950000</td>\n",
       "      <td>NaN</td>\n",
       "    </tr>\n",
       "    <tr>\n",
       "      <th>max</th>\n",
       "      <td>64.000000</td>\n",
       "      <td>94916.070000</td>\n",
       "      <td>15.000000</td>\n",
       "      <td>NaN</td>\n",
       "    </tr>\n",
       "  </tbody>\n",
       "</table>\n",
       "</div>"
      ],
      "text/plain": [
       "               age        salary  experience_years   department\n",
       "count   100.000000    100.000000        100.000000          100\n",
       "unique         NaN           NaN               NaN            3\n",
       "top            NaN           NaN               NaN  Engineering\n",
       "freq           NaN           NaN               NaN           36\n",
       "mean     38.800000  58983.503000          7.199000          NaN\n",
       "std      13.893535  14509.264326          3.039487          NaN\n",
       "min      18.000000  24929.310000          0.000000          NaN\n",
       "25%      27.000000  49956.970000          5.450000          NaN\n",
       "50%      37.500000  59120.280000          7.000000          NaN\n",
       "75%      53.000000  66926.590000          8.950000          NaN\n",
       "max      64.000000  94916.070000         15.000000          NaN"
      ]
     },
     "execution_count": 30,
     "metadata": {},
     "output_type": "execute_result"
    }
   ],
   "source": [
    "df.describe(include='all')"
   ]
  },
  {
   "cell_type": "markdown",
   "id": "225c1a72-8a3b-43d0-be95-b6d3d71291d2",
   "metadata": {},
   "source": [
    "Why is describe() not always enough?\n",
    "- It doesn’t show **missing values** (use `df.isnull().sum()`)\n",
    "- It doesn’t show **skewness, kurtosis**, or **correlations**\n",
    "- It shows **summary stats**, but not relationships between columns\n"
   ]
  },
  {
   "cell_type": "markdown",
   "id": "b6d40e35-2c58-4232-8581-6dd38f8990de",
   "metadata": {},
   "source": [
    "## Conclusion\n",
    "While `describe()` is often the starting point, true data understanding comes from combining:\n",
    "- `.info()` for types and memory\n",
    "- `.isnull()` for data quality\n",
    "- `.value_counts()` and `.nunique()` for categorical data\n",
    "- `.groupby()` and `.agg()` for comparisons\n",
    "- `.corr()` for feature selection"
   ]
  },
  {
   "cell_type": "code",
   "execution_count": null,
   "id": "7a94c74c-ae1e-4321-9680-355653b098c9",
   "metadata": {},
   "outputs": [],
   "source": []
  }
 ],
 "metadata": {
  "kernelspec": {
   "display_name": "Stats_py38",
   "language": "python",
   "name": "stats"
  },
  "language_info": {
   "codemirror_mode": {
    "name": "ipython",
    "version": 3
   },
   "file_extension": ".py",
   "mimetype": "text/x-python",
   "name": "python",
   "nbconvert_exporter": "python",
   "pygments_lexer": "ipython3",
   "version": "3.8.0"
  }
 },
 "nbformat": 4,
 "nbformat_minor": 5
}
